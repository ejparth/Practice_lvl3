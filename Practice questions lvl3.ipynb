{
 "cells": [
  {
   "cell_type": "markdown",
   "id": "25a23b3d",
   "metadata": {},
   "source": [
    "#### Create a function that takes a list of strings and returns the list sorted alphabetically"
   ]
  },
  {
   "cell_type": "code",
   "execution_count": 6,
   "id": "2119ed79",
   "metadata": {},
   "outputs": [
    {
     "name": "stdout",
     "output_type": "stream",
     "text": [
      "How many words you want to enter : 3\n",
      "Enter the wordSmriti\n",
      "Enter the wordAakash\n",
      "Enter the wordAayush\n",
      "['Aakash', 'Aayush', 'Smriti']\n"
     ]
    }
   ],
   "source": [
    "list_of_words = []\n",
    "\n",
    "num = int(input(\"How many words you want to enter : \"))\n",
    "\n",
    "def words_entry(num):\n",
    "    for i in range(0,num):\n",
    "        word = input(\"Enter the word\")\n",
    "        list_of_words.append(word)\n",
    "\n",
    "words_entry(num)\n",
    "list_of_words.sort()\n",
    "print(list_of_words)"
   ]
  },
  {
   "cell_type": "markdown",
   "id": "07a920ca",
   "metadata": {},
   "source": [
    "####  Write a function that takes two lists and returns their intersection"
   ]
  },
  {
   "cell_type": "code",
   "execution_count": 12,
   "id": "83ce4f8c",
   "metadata": {},
   "outputs": [
    {
     "name": "stdout",
     "output_type": "stream",
     "text": [
      "['govind', 'krishna']\n"
     ]
    }
   ],
   "source": [
    "def intersection(lsta, lstb):\n",
    "    \n",
    "    temp = set(lsta)\n",
    "    lst3 = [value for value in lstb if value in temp]\n",
    "    return lst3\n",
    "\n",
    "\n",
    "lst1 = ['aakash', 'ankur', 'smriti', 'govind', 'krishna']\n",
    "lst2 = ['govind', 'krishna']\n",
    "print(intersection(lst1, lst2))"
   ]
  },
  {
   "cell_type": "markdown",
   "id": "ad342ab4",
   "metadata": {},
   "source": [
    "#### Given a list of words, concatenate them into a single string separated by spaces \n"
   ]
  },
  {
   "cell_type": "code",
   "execution_count": 15,
   "id": "7fdac8a1",
   "metadata": {},
   "outputs": [
    {
     "name": "stdout",
     "output_type": "stream",
     "text": [
      "Aakash is a boy\n"
     ]
    }
   ],
   "source": [
    "lst = ['Aakash', 'is', 'a', 'boy']\n",
    "\n",
    "string = \" \".join(lst)\n",
    "print(string)"
   ]
  },
  {
   "cell_type": "markdown",
   "id": "13b4f7cb",
   "metadata": {},
   "source": [
    "#### Create a function to reverse a given string"
   ]
  },
  {
   "cell_type": "code",
   "execution_count": 11,
   "id": "c675c8b9",
   "metadata": {},
   "outputs": [
    {
     "name": "stdout",
     "output_type": "stream",
     "text": [
      "Enter a string : king\n",
      "The reverse string is : gnik\n"
     ]
    }
   ],
   "source": [
    "string = input(\"Enter a string : \")\n",
    "A = []\n",
    "full = len(string)\n",
    "\n",
    "def revstr(string):\n",
    "    for i in range(0, len(string)):\n",
    "        A.append(string[full-i-1])\n",
    "\n",
    "    print((\"The reverse string is : {}\".format(''.join(A))))\n",
    "\n",
    "revstr(string)"
   ]
  },
  {
   "cell_type": "markdown",
   "id": "6806896a",
   "metadata": {},
   "source": [
    "#### Count no. of words in a string"
   ]
  },
  {
   "cell_type": "code",
   "execution_count": 31,
   "id": "b5f07e9a",
   "metadata": {},
   "outputs": [
    {
     "name": "stdout",
     "output_type": "stream",
     "text": [
      "Enter a string : I am iron man \n",
      "4\n"
     ]
    }
   ],
   "source": [
    "import re\n",
    "\n",
    "string = input(\"Enter a string : \")\n",
    "\n",
    "def count_wrds(string):\n",
    "    return (re.findall(r'\\w+', string))\n",
    "            \n",
    "\n",
    "\n",
    "print(len(count_wrds(string)))"
   ]
  },
  {
   "cell_type": "code",
   "execution_count": 30,
   "id": "639ff84b",
   "metadata": {},
   "outputs": [
    {
     "name": "stdout",
     "output_type": "stream",
     "text": [
      "Enter a string : I am you\n",
      "['I', 'am', 'you']\n"
     ]
    }
   ],
   "source": [
    "### method 2 ### Count even special charachters ##\n",
    "\n",
    "string = input(\"Enter a string : \")\n",
    "\n",
    "def count_wrds(string):\n",
    "    return (string).split()\n",
    "            \n",
    "\n",
    "\n",
    "print((count_wrds(string)))"
   ]
  },
  {
   "cell_type": "markdown",
   "id": "f757be9b",
   "metadata": {},
   "source": [
    "#### Given a string, write a function to remove all vowels from it and return the modified string"
   ]
  },
  {
   "cell_type": "code",
   "execution_count": 40,
   "id": "5555c86c",
   "metadata": {},
   "outputs": [
    {
     "data": {
      "text/plain": [
       "' jst t  lt f prty fd wth y'"
      ]
     },
     "execution_count": 40,
     "metadata": {},
     "output_type": "execute_result"
    }
   ],
   "source": [
    "string = \"I just ate A lot of party food with you\"\n",
    "word_remove = 'AIEOUaieou'\n",
    "\n",
    "\n",
    "def new_str(string):\n",
    "    results =''\n",
    "    for i in string:\n",
    "        if i not in word_remove:\n",
    "            results += i\n",
    "    return resultslts\n",
    "\n",
    "new_str(string)"
   ]
  },
  {
   "cell_type": "markdown",
   "id": "bd156dc0",
   "metadata": {},
   "source": [
    "#### Write a Python program to find the length of the longest word in a sentence"
   ]
  },
  {
   "cell_type": "code",
   "execution_count": 10,
   "id": "dc284584",
   "metadata": {},
   "outputs": [
    {
     "name": "stdout",
     "output_type": "stream",
     "text": [
      "15\n"
     ]
    }
   ],
   "source": [
    "import re\n",
    "\n",
    "string = 'A Californication no doubt about that'\n",
    "length = 0\n",
    "\n",
    "def find_len(string):\n",
    "    a = re.findall(r'\\w+',string)\n",
    "    length = 0\n",
    "    for i in a:\n",
    "        word_length = len(i)\n",
    "        if word_length > length:\n",
    "            length = word_length\n",
    "    return length\n",
    "\n",
    "print(find_len(string))\n",
    "    "
   ]
  },
  {
   "cell_type": "markdown",
   "id": "1693662d",
   "metadata": {},
   "source": [
    "#### Create a function that takes a sentence as input and returns the sentence in reverse order"
   ]
  },
  {
   "cell_type": "code",
   "execution_count": 23,
   "id": "34869a0a",
   "metadata": {},
   "outputs": [
    {
     "name": "stdout",
     "output_type": "stream",
     "text": [
      "aciremA ni etats a si ainrofilaC\n"
     ]
    }
   ],
   "source": [
    "string = \"California is a state in America\"\n",
    "length = len(string)\n",
    "char = ''\n",
    "\n",
    "for i in  range(0, length):\n",
    "    a = string[length-i - 1]\n",
    "    char += a\n",
    "print (char)\n",
    "    "
   ]
  },
  {
   "cell_type": "markdown",
   "id": "4d06ced9",
   "metadata": {},
   "source": [
    "#### Given a list of names, count the number of names that start with a vowel"
   ]
  },
  {
   "cell_type": "code",
   "execution_count": 38,
   "id": "a75ca1d7",
   "metadata": {},
   "outputs": [
    {
     "name": "stdout",
     "output_type": "stream",
     "text": [
      "Aakash\n",
      "Aayush\n",
      "iou\n",
      "3\n"
     ]
    }
   ],
   "source": [
    "word_vowel = \"AIEOUaieou\"\n",
    "lst_names = ['Smriti', 'Aakash', 'Aayush', 'king', 'iou']\n",
    "\n",
    "def count_vowel_words():\n",
    "    count = 0\n",
    "    for names in lst_names:\n",
    "        for char in word_vowel:\n",
    "            if char == names[0]:\n",
    "                print(names)\n",
    "                count += 1\n",
    "    print(count)  \n",
    "\n",
    "count_vowel_words()"
   ]
  },
  {
   "cell_type": "markdown",
   "id": "91cb851a",
   "metadata": {},
   "source": [
    "#### Write a function to remove all duplicate characters from a given string"
   ]
  },
  {
   "cell_type": "code",
   "execution_count": 46,
   "id": "d346b9e9",
   "metadata": {},
   "outputs": [
    {
     "name": "stdout",
     "output_type": "stream",
     "text": [
      "progamin se\n"
     ]
    }
   ],
   "source": [
    "string = \"programming is a game\"\n",
    "\n",
    "\n",
    "def remove_duplicates(string):\n",
    "    lst = []\n",
    "    seen = set()\n",
    "\n",
    "    for char in string:\n",
    "        if char not in seen: \n",
    "            lst.append(char)\n",
    "            seen.add(char)\n",
    "    print (\"\".join(lst))\n",
    "\n",
    "remove_duplicates(string)"
   ]
  },
  {
   "cell_type": "markdown",
   "id": "e1123f1b",
   "metadata": {},
   "source": [
    "#### Implement a program that takes a sentence and a word as input and checks if the word is present in the sentence"
   ]
  },
  {
   "cell_type": "code",
   "execution_count": 56,
   "id": "e9539745",
   "metadata": {},
   "outputs": [
    {
     "name": "stdout",
     "output_type": "stream",
     "text": [
      "Write a sentence : I am Iron man who is a man\n",
      "Enter a word to check : man\n",
      "['man', 'man']\n",
      "the word is present 2 times\n"
     ]
    }
   ],
   "source": [
    "sentence_inp = input(\"Write a sentence : \")\n",
    "word_inp = input(\"Enter a word to check : \")\n",
    "\n",
    "lst = []\n",
    "\n",
    "def find_word_present(sentence_inp, word_inp):\n",
    "    char = ''\n",
    "    count = 0\n",
    "    words = re.findall(r'\\w+', sentence_inp)\n",
    "    for word in words:\n",
    "        if word_inp == word:\n",
    "            lst.append(word)\n",
    "            count += 1\n",
    "    print(lst)\n",
    "    print(f\"the word is present {count} times\")\n",
    "\n",
    "find_word_present(sentence_inp, word_inp) "
   ]
  },
  {
   "cell_type": "markdown",
   "id": "621c6e21",
   "metadata": {},
   "source": [
    "#### Write a program that finds the largest and smallest elements in a list"
   ]
  },
  {
   "cell_type": "code",
   "execution_count": 61,
   "id": "89076d44",
   "metadata": {},
   "outputs": [
    {
     "name": "stdout",
     "output_type": "stream",
     "text": [
      "554 1\n"
     ]
    }
   ],
   "source": [
    "lst_of_numbers = [12,23,34,1,1,34,33,67,554,33,6]\n",
    "\n",
    "number_max = 0\n",
    "number_min = lst_of_numbers[0]\n",
    "\n",
    "for value in lst_of_numbers:\n",
    "        if value > number_max:\n",
    "            number_max = value\n",
    "        if value < number_min:\n",
    "            number_min = value\n",
    "        \n",
    "\n",
    "print(number_max,number_min)"
   ]
  },
  {
   "cell_type": "markdown",
   "id": "f1b8ec81",
   "metadata": {},
   "source": [
    "####  Create a program that finds the common elements between two lists and stores them in a new list"
   ]
  },
  {
   "cell_type": "code",
   "execution_count": 72,
   "id": "a3bce078",
   "metadata": {},
   "outputs": [
    {
     "name": "stdout",
     "output_type": "stream",
     "text": [
      "Common elements between two lists are :  [33, 67, 6, 554, 12, 23]\n"
     ]
    }
   ],
   "source": [
    "lst_of_numbers_a = [12,23,34,1,1,34,33,67,554,33,6]\n",
    "lst_of_numbers_b = [12,23,67,554,33,6]\n",
    "\n",
    "lst = []\n",
    "\n",
    "for j in set(lst_of_numbers_b):\n",
    "    if j in set(lst_of_numbers_a):\n",
    "          (lst.append(j))  \n",
    "print(\"Common elements between two lists are : \",lst)"
   ]
  },
  {
   "cell_type": "markdown",
   "id": "b377fece",
   "metadata": {},
   "source": [
    "#### Write a Python program to count the occurrences of each element in a given list"
   ]
  },
  {
   "cell_type": "code",
   "execution_count": 75,
   "id": "3ab2bae9",
   "metadata": {},
   "outputs": [
    {
     "name": "stdout",
     "output_type": "stream",
     "text": [
      "{'apple': 2, 'mangoes': 4, 'banana': 8}\n"
     ]
    }
   ],
   "source": [
    "list_of_things = ['apple', 'apple', 'mangoes', 'mangoes', 'mangoes', 'mangoes', 'banana','banana','banana','banana','banana','banana','banana','banana',]\n",
    "\n",
    "dict_of_lst = dict.fromkeys(list_of_things, 0)\n",
    "\n",
    "def count_things_inlst():\n",
    "    for value in list_of_things:\n",
    "        dict_of_lst[value] +=1\n",
    "    print(dict_of_lst)\n",
    "\n",
    "count_things_inlst()"
   ]
  },
  {
   "cell_type": "markdown",
   "id": "c9459250",
   "metadata": {},
   "source": [
    "#### Create a function that takes a list of strings and returns the list sorted by the length of the strings"
   ]
  },
  {
   "cell_type": "code",
   "execution_count": 78,
   "id": "ca78e007",
   "metadata": {},
   "outputs": [
    {
     "name": "stdout",
     "output_type": "stream",
     "text": [
      "Input a stringI am Iron man\n",
      "['I', 'am', 'man', 'Iron']\n"
     ]
    }
   ],
   "source": [
    "str_ = input(\"Input a string\")\n",
    "final_lst = []\n",
    "\n",
    "each_word = re.findall(r'\\w+', str_)\n",
    "final_lst = sorted(each_word,key= len)\n",
    "    \n",
    "print(final_lst)"
   ]
  },
  {
   "cell_type": "code",
   "execution_count": 85,
   "id": "10adad58",
   "metadata": {},
   "outputs": [],
   "source": [
    "#### 84, 84, 85,87,88 blocks are just ways to write program"
   ]
  },
  {
   "cell_type": "code",
   "execution_count": 83,
   "id": "09aea105",
   "metadata": {},
   "outputs": [
    {
     "name": "stdout",
     "output_type": "stream",
     "text": [
      "['This', 'is', 'a', 'sample', 'sentence', '##', 'with', 'words', 'of', 'different', 'lengths']\n"
     ]
    }
   ],
   "source": [
    "\n",
    "input_string = \"This is a sample sentence with words of different lengths\"\n",
    "words = input_string.split()\n",
    "print(words)"
   ]
  },
  {
   "cell_type": "code",
   "execution_count": 84,
   "id": "f7e4bdf5",
   "metadata": {},
   "outputs": [
    {
     "name": "stdout",
     "output_type": "stream",
     "text": [
      "2 1\n"
     ]
    }
   ],
   "source": [
    "a = 1\n",
    "b = 2\n",
    "\n",
    "a,b = b,a\n",
    "print(a,b)"
   ]
  },
  {
   "cell_type": "code",
   "execution_count": 87,
   "id": "416298bf",
   "metadata": {},
   "outputs": [],
   "source": [
    "### Bubble sort"
   ]
  },
  {
   "cell_type": "code",
   "execution_count": 90,
   "id": "ec08afde",
   "metadata": {},
   "outputs": [],
   "source": [
    "def sort_words_by_length(input_string):\n",
    "    words = input_string.split()  # Split the string into words\n",
    "\n",
    "    # Implement a simple bubble sort to sort words by length\n",
    "    n = len(words)\n",
    "    for i in range(n):\n",
    "        for j in range(0, n - i - 1):\n",
    "            if len(words[j]) > len(words[j + 1]):\n",
    "                words[j], words[j + 1] = words[j + 1], words[j]\n",
    "\n",
    "    sorted_string = ' '.join(words)  # Join the sorted words back into a string\n",
    "    return sorted_string"
   ]
  },
  {
   "cell_type": "markdown",
   "id": "ccc5501c",
   "metadata": {},
   "source": [
    "#### Write a program that checks if a given list is sorted in ascending order"
   ]
  },
  {
   "cell_type": "code",
   "execution_count": 95,
   "id": "4dbcdbe2",
   "metadata": {},
   "outputs": [
    {
     "name": "stdout",
     "output_type": "stream",
     "text": [
      "This is in ascending order\n"
     ]
    }
   ],
   "source": [
    "number1 = [1,2,3,4,5]\n",
    "number2 = [5,4,3,2,1]\n",
    "\n",
    "def is_sorted_list(arr):\n",
    "    for i in range(1, len(arr)):\n",
    "        if arr[i] < arr[i-1]:\n",
    "            return False\n",
    "    return True\n",
    "\n",
    "if is_sorted_list(number1):\n",
    "    print(\"This is in ascending order\")\n",
    "else:\n",
    "    print(\"Not in an ascending order\")"
   ]
  },
  {
   "cell_type": "code",
   "execution_count": null,
   "id": "d3d2a070",
   "metadata": {},
   "outputs": [],
   "source": []
  }
 ],
 "metadata": {
  "kernelspec": {
   "display_name": "Python 3 (ipykernel)",
   "language": "python",
   "name": "python3"
  },
  "language_info": {
   "codemirror_mode": {
    "name": "ipython",
    "version": 3
   },
   "file_extension": ".py",
   "mimetype": "text/x-python",
   "name": "python",
   "nbconvert_exporter": "python",
   "pygments_lexer": "ipython3",
   "version": "3.9.12"
  }
 },
 "nbformat": 4,
 "nbformat_minor": 5
}
